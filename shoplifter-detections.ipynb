{
 "cells": [
  {
   "cell_type": "code",
   "execution_count": 1,
   "metadata": {
    "_cell_guid": "b1076dfc-b9ad-4769-8c92-a6c4dae69d19",
    "_uuid": "8f2839f25d086af736a60e9eeb907d3b93b6e0e5",
    "execution": {
     "iopub.execute_input": "2025-03-10T23:39:31.522337Z",
     "iopub.status.busy": "2025-03-10T23:39:31.522016Z",
     "iopub.status.idle": "2025-03-10T23:39:49.218976Z",
     "shell.execute_reply": "2025-03-10T23:39:49.217875Z",
     "shell.execute_reply.started": "2025-03-10T23:39:31.522310Z"
    },
    "trusted": true
   },
   "outputs": [
    {
     "name": "stdout",
     "output_type": "stream",
     "text": [
      "1KCKfyIGbQi8a7bIYta3LM8dFStxVzVX-\n"
     ]
    },
    {
     "name": "stderr",
     "output_type": "stream",
     "text": [
      "Downloading...\n",
      "From (original): https://drive.google.com/uc?/export=download&id=1KCKfyIGbQi8a7bIYta3LM8dFStxVzVX-\n",
      "From (redirected): https://drive.google.com/uc?%2Fexport=download&id=1KCKfyIGbQi8a7bIYta3LM8dFStxVzVX-&confirm=t&uuid=d110c335-8cee-449b-88fc-cb212e1cc701\n",
      "To: /kaggle/working/Shop DataSet.zip\n",
      "100%|██████████| 1.78G/1.78G [00:13<00:00, 133MB/s] "
     ]
    },
    {
     "name": "stdout",
     "output_type": "stream",
     "text": [
      "Data downloaded!\n"
     ]
    },
    {
     "name": "stderr",
     "output_type": "stream",
     "text": [
      "\n"
     ]
    }
   ],
   "source": [
    "import gdown\n",
    "\n",
    "url = \"https://drive.google.com/file/d/1KCKfyIGbQi8a7bIYta3LM8dFStxVzVX-/view?pli=1\"\n",
    "\n",
    "file_id = url.split(\"/\")[-2]\n",
    "print(file_id)\n",
    "prefix = 'https://drive.google.com/uc?/export=download&id='\n",
    "gdown.download(prefix+file_id)\n",
    "print(\"Data downloaded!\")"
   ]
  },
  {
   "cell_type": "code",
   "execution_count": null,
   "metadata": {
    "execution": {
     "iopub.execute_input": "2025-03-11T01:18:44.811029Z",
     "iopub.status.busy": "2025-03-11T01:18:44.810638Z",
     "iopub.status.idle": "2025-03-11T01:18:52.838543Z",
     "shell.execute_reply": "2025-03-11T01:18:52.837523Z",
     "shell.execute_reply.started": "2025-03-11T01:18:44.810999Z"
    },
    "trusted": true
   },
   "outputs": [
    {
     "name": "stdout",
     "output_type": "stream",
     "text": [
      "Data extracted to: /kaggle/working/data\n"
     ]
    }
   ],
   "source": [
    "import zipfile\n",
    "import os\n",
    "\n",
    "# Path to the uploaded zip file\n",
    "zip_path = '/kaggle/working/Shop DataSet.zip'  # Update this path as per your Drive structure\n",
    "output_path = '/kaggle/working/data'\n",
    "\n",
    "# Create the output directory if it doesn't exist\n",
    "os.makedirs(output_path, exist_ok=True)\n",
    "\n",
    "# Extract the zip file\n",
    "with zipfile.ZipFile(zip_path, 'r') as zip_ref: \n",
    "    zip_ref.extractall(output_path)\n",
    "\n",
    "print(\"Data extracted to:\", output_path)\n"
   ]
  },
  {
   "cell_type": "code",
   "execution_count": 5,
   "metadata": {
    "execution": {
     "iopub.execute_input": "2025-03-11T01:19:11.924296Z",
     "iopub.status.busy": "2025-03-11T01:19:11.923925Z",
     "iopub.status.idle": "2025-03-11T01:19:13.972194Z",
     "shell.execute_reply": "2025-03-11T01:19:13.971171Z",
     "shell.execute_reply.started": "2025-03-11T01:19:11.924264Z"
    },
    "trusted": true
   },
   "outputs": [],
   "source": [
    "import os\n",
    "import numpy as np\n",
    "import pandas as pd\n",
    "import matplotlib.pyplot as plt\n",
    "import torch\n",
    "import torch.nn as nn\n",
    "import torch.optim as optim\n",
    "from torch.utils.data import Dataset, DataLoader\n",
    "from torchvision import transforms\n",
    "import torchvision.models as models\n",
    "from sklearn.model_selection import train_test_split\n",
    "from sklearn.metrics import accuracy_score, confusion_matrix, classification_report\n",
    "import cv2\n",
    "from tqdm.notebook import tqdm\n",
    "import random\n",
    "from PIL import Image\n",
    "import warnings\n",
    "import gc  # For explicit garbage collection\n",
    "warnings.filterwarnings('ignore')"
   ]
  },
  {
   "cell_type": "code",
   "execution_count": 6,
   "metadata": {
    "execution": {
     "iopub.execute_input": "2025-03-11T01:19:15.111202Z",
     "iopub.status.busy": "2025-03-11T01:19:15.110706Z",
     "iopub.status.idle": "2025-03-11T01:19:15.210473Z",
     "shell.execute_reply": "2025-03-11T01:19:15.209660Z",
     "shell.execute_reply.started": "2025-03-11T01:19:15.111162Z"
    },
    "trusted": true
   },
   "outputs": [
    {
     "name": "stdout",
     "output_type": "stream",
     "text": [
      "Using device: cuda\n",
      "Total GPU memory: 15.83 GB\n",
      "Available GPU memory: 0.00 GB\n"
     ]
    }
   ],
   "source": [
    "def set_seed(seed=42):\n",
    "    np.random.seed(seed)\n",
    "    random.seed(seed)\n",
    "    torch.manual_seed(seed)\n",
    "    torch.cuda.manual_seed(seed)\n",
    "    torch.backends.cudnn.deterministic = True\n",
    "    \n",
    "set_seed()\n",
    "\n",
    "# Check if GPU is available\n",
    "device = torch.device(\"cuda\" if torch.cuda.is_available() else \"cpu\")\n",
    "print(f\"Using device: {device}\")\n",
    "\n",
    "if torch.cuda.is_available():\n",
    "    print(f\"Total GPU memory: {torch.cuda.get_device_properties(0).total_memory / 1e9:.2f} GB\")\n",
    "    print(f\"Available GPU memory: {torch.cuda.memory_reserved(0) / 1e9:.2f} GB\")"
   ]
  },
  {
   "cell_type": "code",
   "execution_count": 7,
   "metadata": {
    "execution": {
     "iopub.execute_input": "2025-03-11T01:19:16.529788Z",
     "iopub.status.busy": "2025-03-11T01:19:16.529475Z",
     "iopub.status.idle": "2025-03-11T01:19:16.538176Z",
     "shell.execute_reply": "2025-03-11T01:19:16.537062Z",
     "shell.execute_reply.started": "2025-03-11T01:19:16.529763Z"
    },
    "trusted": true
   },
   "outputs": [],
   "source": [
    "DATA_DIR = \"/kaggle/working/data/Shop DataSet\"  # Change this to your data directory\n",
    "CLASS_NAMES = [\"non shop lifters\", \"shop lifters\"]  # Replace with your actual class names\n",
    "\n",
    "def extract_frames(video_path, num_frames=8, target_size=(160, 160)):\n",
    "    \"\"\"Extract equally spaced frames from a video file with reduced resolution\"\"\"\n",
    "    frames = []\n",
    "    cap = cv2.VideoCapture(video_path)\n",
    "    \n",
    "    # Get total number of frames in the video\n",
    "    length = int(cap.get(cv2.CAP_PROP_FRAME_COUNT))\n",
    "    \n",
    "    # Calculate frame indices to extract (equally spaced)\n",
    "    frame_indices = np.linspace(0, length-1, num_frames, dtype=np.int32)\n",
    "    \n",
    "    for idx in frame_indices:\n",
    "        cap.set(cv2.CAP_PROP_POS_FRAMES, idx)\n",
    "        ret, frame = cap.read()\n",
    "        if ret:\n",
    "            # Resize directly during extraction to save memory\n",
    "            frame = cv2.resize(frame, target_size)\n",
    "            # Convert from BGR to RGB\n",
    "            frame = cv2.cvtColor(frame, cv2.COLOR_BGR2RGB)\n",
    "            frames.append(frame)\n",
    "        else:\n",
    "            # If reading fails, add a blank frame\n",
    "            frames.append(np.zeros((target_size[0], target_size[1], 3), dtype=np.uint8))\n",
    "    \n",
    "    cap.release()\n",
    "    \n",
    "    # If we couldn't extract enough frames, pad with blank frames\n",
    "    while len(frames) < num_frames:\n",
    "        frames.append(np.zeros((target_size[0], target_size[1], 3), dtype=np.uint8))\n",
    "        \n",
    "    return frames\n",
    "\n",
    "# Create a list of all video files and their labels\n",
    "def create_video_dataset(data_dir, class_names):\n",
    "    video_paths = []\n",
    "    labels = []\n",
    "    \n",
    "    for label, class_name in enumerate(class_names):\n",
    "        class_dir = os.path.join(data_dir, class_name)\n",
    "        for filename in os.listdir(class_dir):\n",
    "            if filename.endswith(('.mp4', '.avi', '.mov')):  # Common video extensions\n",
    "                video_path = os.path.join(class_dir, filename)\n",
    "                video_paths.append(video_path)\n",
    "                labels.append(label)\n",
    "    \n",
    "    return video_paths, labels"
   ]
  },
  {
   "cell_type": "code",
   "execution_count": 8,
   "metadata": {
    "execution": {
     "iopub.execute_input": "2025-03-11T01:19:35.670511Z",
     "iopub.status.busy": "2025-03-11T01:19:35.670116Z",
     "iopub.status.idle": "2025-03-11T01:19:35.680258Z",
     "shell.execute_reply": "2025-03-11T01:19:35.679367Z",
     "shell.execute_reply.started": "2025-03-11T01:19:35.670481Z"
    },
    "trusted": true
   },
   "outputs": [
    {
     "name": "stdout",
     "output_type": "stream",
     "text": [
      "Total videos: 855\n",
      "Class distribution: {0: 531, 1: 324}\n"
     ]
    }
   ],
   "source": [
    "video_paths, labels = create_video_dataset(DATA_DIR, CLASS_NAMES)\n",
    "print(f\"Total videos: {len(video_paths)}\")\n",
    "print(f\"Class distribution: {pd.Series(labels).value_counts().to_dict()}\")"
   ]
  },
  {
   "cell_type": "code",
   "execution_count": 9,
   "metadata": {
    "execution": {
     "iopub.execute_input": "2025-03-11T01:19:37.727536Z",
     "iopub.status.busy": "2025-03-11T01:19:37.727187Z",
     "iopub.status.idle": "2025-03-11T01:19:37.738693Z",
     "shell.execute_reply": "2025-03-11T01:19:37.737800Z",
     "shell.execute_reply.started": "2025-03-11T01:19:37.727512Z"
    },
    "trusted": true
   },
   "outputs": [
    {
     "name": "stdout",
     "output_type": "stream",
     "text": [
      "Train videos: 513\n",
      "Validation videos: 171\n",
      "Test videos: 171\n"
     ]
    }
   ],
   "source": [
    "train_paths, test_paths, train_labels, test_labels = train_test_split(\n",
    "    video_paths, labels, test_size=0.2, stratify=labels, random_state=42\n",
    ")\n",
    "train_paths, val_paths, train_labels, val_labels = train_test_split(\n",
    "    train_paths, train_labels, test_size=0.25, stratify=train_labels, random_state=42\n",
    ")  # 0.25 * 0.8 = 0.2 of total\n",
    "\n",
    "print(f\"Train videos: {len(train_paths)}\")\n",
    "print(f\"Validation videos: {len(val_paths)}\")\n",
    "print(f\"Test videos: {len(test_paths)}\")\n"
   ]
  },
  {
   "cell_type": "code",
   "execution_count": 10,
   "metadata": {
    "execution": {
     "iopub.execute_input": "2025-03-11T01:19:39.548749Z",
     "iopub.status.busy": "2025-03-11T01:19:39.548429Z",
     "iopub.status.idle": "2025-03-11T01:19:39.557137Z",
     "shell.execute_reply": "2025-03-11T01:19:39.556100Z",
     "shell.execute_reply.started": "2025-03-11T01:19:39.548723Z"
    },
    "trusted": true
   },
   "outputs": [],
   "source": [
    "class VideoDataset(Dataset):\n",
    "    def __init__(self, video_paths, labels, num_frames=8, transform=None, mode='train'):\n",
    "        self.video_paths = video_paths\n",
    "        self.labels = labels\n",
    "        self.num_frames = num_frames\n",
    "        self.transform = transform\n",
    "        self.mode = mode\n",
    "        \n",
    "    def __len__(self):\n",
    "        return len(self.video_paths)\n",
    "    \n",
    "    def __getitem__(self, idx):\n",
    "        video_path = self.video_paths[idx]\n",
    "        frames = extract_frames(video_path, self.num_frames)\n",
    "        \n",
    "        # Apply transformations to each frame\n",
    "        transformed_frames = []\n",
    "        for frame in frames:\n",
    "            # Convert numpy array to PIL Image\n",
    "            frame_pil = Image.fromarray(frame)\n",
    "            if self.transform:\n",
    "                frame_pil = self.transform(frame_pil)\n",
    "            transformed_frames.append(frame_pil)\n",
    "        \n",
    "        # Stack frames along a new dimension\n",
    "        frames_tensor = torch.stack(transformed_frames)\n",
    "        label = torch.tensor(self.labels[idx], dtype=torch.long)\n",
    "        \n",
    "        return frames_tensor, label\n",
    "\n",
    "# Define transformations with reduced image size\n",
    "train_transform = transforms.Compose([\n",
    "    transforms.Resize((160, 160)),  # Reduced from 224x224\n",
    "    transforms.RandomHorizontalFlip(),\n",
    "    transforms.ColorJitter(brightness=0.2, contrast=0.2, saturation=0.2),\n",
    "    transforms.ToTensor(),\n",
    "    transforms.Normalize(mean=[0.485, 0.456, 0.406], std=[0.229, 0.224, 0.225])\n",
    "])\n",
    "\n",
    "val_transform = transforms.Compose([\n",
    "    transforms.Resize((160, 160)),  # Reduced from 224x224\n",
    "    transforms.ToTensor(),\n",
    "    transforms.Normalize(mean=[0.485, 0.456, 0.406], std=[0.229, 0.224, 0.225])\n",
    "])"
   ]
  },
  {
   "cell_type": "code",
   "execution_count": 11,
   "metadata": {
    "execution": {
     "iopub.execute_input": "2025-03-11T01:19:43.079708Z",
     "iopub.status.busy": "2025-03-11T01:19:43.079349Z",
     "iopub.status.idle": "2025-03-11T01:19:43.085689Z",
     "shell.execute_reply": "2025-03-11T01:19:43.084587Z",
     "shell.execute_reply.started": "2025-03-11T01:19:43.079673Z"
    },
    "trusted": true
   },
   "outputs": [],
   "source": [
    "NUM_FRAMES = 8  # Reduced from 16\n",
    "train_dataset = VideoDataset(train_paths, train_labels, num_frames=NUM_FRAMES, transform=train_transform, mode='train')\n",
    "val_dataset = VideoDataset(val_paths, val_labels, num_frames=NUM_FRAMES, transform=val_transform, mode='val')\n",
    "test_dataset = VideoDataset(test_paths, test_labels, num_frames=NUM_FRAMES, transform=val_transform, mode='test')\n",
    "\n",
    "# Create data loaders with smaller batch size\n",
    "BATCH_SIZE = 4  # Reduced from 8\n",
    "train_loader = DataLoader(train_dataset, batch_size=BATCH_SIZE, shuffle=True, num_workers=2, pin_memory=False)\n",
    "val_loader = DataLoader(val_dataset, batch_size=BATCH_SIZE, shuffle=False, num_workers=2, pin_memory=False)\n",
    "test_loader = DataLoader(test_dataset, batch_size=BATCH_SIZE, shuffle=False, num_workers=2, pin_memory=False)"
   ]
  },
  {
   "cell_type": "code",
   "execution_count": 12,
   "metadata": {
    "execution": {
     "iopub.execute_input": "2025-03-11T01:19:44.775174Z",
     "iopub.status.busy": "2025-03-11T01:19:44.774814Z",
     "iopub.status.idle": "2025-03-11T01:19:44.783471Z",
     "shell.execute_reply": "2025-03-11T01:19:44.782592Z",
     "shell.execute_reply.started": "2025-03-11T01:19:44.775146Z"
    },
    "trusted": true
   },
   "outputs": [],
   "source": [
    "class LightweightVideoClassifier(nn.Module):\n",
    "    def __init__(self, num_classes=2):\n",
    "        super(LightweightVideoClassifier, self).__init__()\n",
    "        \n",
    "        # Using ResNet18 instead of ResNet50 to reduce memory usage\n",
    "        base_model = models.resnet18(weights='IMAGENET1K_V1')\n",
    "        \n",
    "        # Remove the final fully connected layer\n",
    "        self.base_model = nn.Sequential(*list(base_model.children())[:-2])\n",
    "        \n",
    "        # Feature dimension from ResNet18\n",
    "        feature_dim = 512  # Reduced from 2048 in ResNet50\n",
    "        \n",
    "        # Simplified temporal modeling with a single layer of transformer\n",
    "        encoder_layer = nn.TransformerEncoderLayer(\n",
    "            d_model=feature_dim, \n",
    "            nhead=4,  # Reduced from 8\n",
    "            dim_feedforward=1024,  # Reduced from 2048\n",
    "            dropout=0.1,\n",
    "            batch_first=True\n",
    "        )\n",
    "        self.transformer_encoder = nn.TransformerEncoder(encoder_layer, num_layers=1)  # Reduced from 2\n",
    "        \n",
    "        # Final classification head\n",
    "        self.classifier = nn.Sequential(\n",
    "            nn.Linear(feature_dim, 256),  # Reduced from 512\n",
    "            nn.ReLU(),\n",
    "            nn.Dropout(0.5),\n",
    "            nn.Linear(256, num_classes)\n",
    "        )\n",
    "        \n",
    "    def forward(self, x):\n",
    "        b, t, c, h, w = x.shape  # batch, time, channel, height, width\n",
    "        \n",
    "        # Process frames in chunks to save memory\n",
    "        chunk_size = 4  # Process 4 frames at a time\n",
    "        features_list = []\n",
    "        \n",
    "        for i in range(0, t, chunk_size):\n",
    "            end = min(i + chunk_size, t)\n",
    "            chunk = x[:, i:end].contiguous()\n",
    "            chunk = chunk.view((b * (end - i)), c, h, w)\n",
    "            \n",
    "            # Extract features with the CNN base model\n",
    "            chunk_features = self.base_model(chunk)\n",
    "            \n",
    "            # Global average pooling\n",
    "            chunk_features = nn.functional.adaptive_avg_pool2d(chunk_features, (1, 1))\n",
    "            chunk_features = chunk_features.view(b, (end - i), -1)\n",
    "            features_list.append(chunk_features)\n",
    "            \n",
    "            # Free up memory\n",
    "            del chunk, chunk_features\n",
    "            if torch.cuda.is_available():\n",
    "                torch.cuda.empty_cache()\n",
    "                \n",
    "        # Concatenate features\n",
    "        features = torch.cat(features_list, dim=1)\n",
    "        \n",
    "        # Process with transformer\n",
    "        transformer_out = self.transformer_encoder(features)\n",
    "        \n",
    "        # Global temporal pooling (mean across time dimension)\n",
    "        pooled_features = torch.mean(transformer_out, dim=1)\n",
    "        \n",
    "        # Classification\n",
    "        output = self.classifier(pooled_features)\n",
    "        \n",
    "        return output"
   ]
  },
  {
   "cell_type": "code",
   "execution_count": 13,
   "metadata": {
    "execution": {
     "iopub.execute_input": "2025-03-11T01:19:47.655590Z",
     "iopub.status.busy": "2025-03-11T01:19:47.655252Z",
     "iopub.status.idle": "2025-03-11T01:19:48.078861Z",
     "shell.execute_reply": "2025-03-11T01:19:48.078046Z",
     "shell.execute_reply.started": "2025-03-11T01:19:47.655566Z"
    },
    "trusted": true
   },
   "outputs": [],
   "source": [
    "model = LightweightVideoClassifier(num_classes=len(CLASS_NAMES))\n",
    "model = model.to(device)\n"
   ]
  },
  {
   "cell_type": "code",
   "execution_count": 14,
   "metadata": {
    "execution": {
     "iopub.execute_input": "2025-03-11T01:19:51.270361Z",
     "iopub.status.busy": "2025-03-11T01:19:51.269992Z",
     "iopub.status.idle": "2025-03-11T01:19:51.276134Z",
     "shell.execute_reply": "2025-03-11T01:19:51.275186Z",
     "shell.execute_reply.started": "2025-03-11T01:19:51.270326Z"
    },
    "trusted": true
   },
   "outputs": [
    {
     "name": "stdout",
     "output_type": "stream",
     "text": [
      "Model has 13,411,138 trainable parameters\n"
     ]
    }
   ],
   "source": [
    "def count_parameters(model):\n",
    "    return sum(p.numel() for p in model.parameters() if p.requires_grad)\n",
    "\n",
    "print(f\"Model has {count_parameters(model):,} trainable parameters\")"
   ]
  },
  {
   "cell_type": "code",
   "execution_count": 15,
   "metadata": {
    "execution": {
     "iopub.execute_input": "2025-03-11T01:19:53.481736Z",
     "iopub.status.busy": "2025-03-11T01:19:53.481403Z",
     "iopub.status.idle": "2025-03-11T01:19:53.487001Z",
     "shell.execute_reply": "2025-03-11T01:19:53.486116Z",
     "shell.execute_reply.started": "2025-03-11T01:19:53.481709Z"
    },
    "trusted": true
   },
   "outputs": [],
   "source": [
    "criterion = nn.CrossEntropyLoss()\n",
    "optimizer = optim.AdamW(model.parameters(), lr=0.0001, weight_decay=1e-5)\n",
    "\n",
    "# Learning rate scheduler\n",
    "scheduler = optim.lr_scheduler.ReduceLROnPlateau(\n",
    "    optimizer, mode='min', factor=0.5, patience=5, verbose=True\n",
    ")\n"
   ]
  },
  {
   "cell_type": "code",
   "execution_count": 16,
   "metadata": {
    "execution": {
     "iopub.execute_input": "2025-03-11T01:19:55.191642Z",
     "iopub.status.busy": "2025-03-11T01:19:55.191318Z",
     "iopub.status.idle": "2025-03-11T01:19:55.201566Z",
     "shell.execute_reply": "2025-03-11T01:19:55.200176Z",
     "shell.execute_reply.started": "2025-03-11T01:19:55.191615Z"
    },
    "trusted": true
   },
   "outputs": [],
   "source": [
    "def train_epoch(model, dataloader, criterion, optimizer, device):\n",
    "    model.train()\n",
    "    running_loss = 0.0\n",
    "    all_preds = []\n",
    "    all_labels = []\n",
    "    \n",
    "    # Process in smaller batches\n",
    "    for frames, labels in tqdm(dataloader, desc=\"Training\"):\n",
    "        frames, labels = frames.to(device), labels.to(device)\n",
    "        \n",
    "        # Zero the parameter gradients\n",
    "        optimizer.zero_grad()\n",
    "        \n",
    "        # Forward pass\n",
    "        outputs = model(frames)\n",
    "        loss = criterion(outputs, labels)\n",
    "        \n",
    "        # Backward pass and optimize\n",
    "        loss.backward()\n",
    "        optimizer.step()\n",
    "        \n",
    "        # Statistics\n",
    "        running_loss += loss.item() * frames.size(0)\n",
    "        _, preds = torch.max(outputs, 1)\n",
    "        all_preds.extend(preds.cpu().numpy())\n",
    "        all_labels.extend(labels.cpu().numpy())\n",
    "        \n",
    "        # Free up memory\n",
    "        del frames, labels, outputs, loss, preds\n",
    "        if torch.cuda.is_available():\n",
    "            torch.cuda.empty_cache()\n",
    "    \n",
    "    epoch_loss = running_loss / len(dataloader.dataset)\n",
    "    epoch_acc = accuracy_score(all_labels, all_preds)\n",
    "    \n",
    "    return epoch_loss, epoch_acc, all_preds, all_labels\n",
    "\n",
    "def validate(model, dataloader, criterion, device):\n",
    "    model.eval()\n",
    "    running_loss = 0.0\n",
    "    all_preds = []\n",
    "    all_labels = []\n",
    "    \n",
    "    with torch.no_grad():\n",
    "        for frames, labels in tqdm(dataloader, desc=\"Validation\"):\n",
    "            frames, labels = frames.to(device), labels.to(device)\n",
    "            \n",
    "            # Forward pass\n",
    "            outputs = model(frames)\n",
    "            loss = criterion(outputs, labels)\n",
    "            \n",
    "            # Statistics\n",
    "            running_loss += loss.item() * frames.size(0)\n",
    "            _, preds = torch.max(outputs, 1)\n",
    "            all_preds.extend(preds.cpu().numpy())\n",
    "            all_labels.extend(labels.cpu().numpy())\n",
    "            \n",
    "            # Free up memory\n",
    "            del frames, labels, outputs, loss, preds\n",
    "            if torch.cuda.is_available():\n",
    "                torch.cuda.empty_cache()\n",
    "    \n",
    "    epoch_loss = running_loss / len(dataloader.dataset)\n",
    "    epoch_acc = accuracy_score(all_labels, all_preds)\n",
    "    \n",
    "    return epoch_loss, epoch_acc, all_preds, all_labels"
   ]
  },
  {
   "cell_type": "code",
   "execution_count": 18,
   "metadata": {
    "execution": {
     "iopub.execute_input": "2025-03-11T01:20:35.946269Z",
     "iopub.status.busy": "2025-03-11T01:20:35.945872Z",
     "iopub.status.idle": "2025-03-11T02:44:58.520740Z",
     "shell.execute_reply": "2025-03-11T02:44:58.519584Z",
     "shell.execute_reply.started": "2025-03-11T01:20:35.946239Z"
    },
    "trusted": true
   },
   "outputs": [
    {
     "name": "stdout",
     "output_type": "stream",
     "text": [
      "Epoch 1/50\n"
     ]
    },
    {
     "data": {
      "application/vnd.jupyter.widget-view+json": {
       "model_id": "413b5636e94645ca8795e393b795f111",
       "version_major": 2,
       "version_minor": 0
      },
      "text/plain": [
       "Training:   0%|          | 0/129 [00:00<?, ?it/s]"
      ]
     },
     "metadata": {},
     "output_type": "display_data"
    },
    {
     "data": {
      "application/vnd.jupyter.widget-view+json": {
       "model_id": "a76c32a38ead4a6898248e5e20395a05",
       "version_major": 2,
       "version_minor": 0
      },
      "text/plain": [
       "Validation:   0%|          | 0/43 [00:00<?, ?it/s]"
      ]
     },
     "metadata": {},
     "output_type": "display_data"
    },
    {
     "name": "stdout",
     "output_type": "stream",
     "text": [
      "Train Loss: 0.2974, Train Acc: 0.8908\n",
      "Val Loss: 0.1019, Val Acc: 0.9708\n",
      "Validation Confusion Matrix:\n",
      "[[106   0]\n",
      " [  5  60]]\n",
      "Model saved!\n",
      "--------------------------------------------------\n",
      "Epoch 2/50\n"
     ]
    },
    {
     "data": {
      "application/vnd.jupyter.widget-view+json": {
       "model_id": "3a230b6c76b947d19fca1a7b019070a0",
       "version_major": 2,
       "version_minor": 0
      },
      "text/plain": [
       "Training:   0%|          | 0/129 [00:00<?, ?it/s]"
      ]
     },
     "metadata": {},
     "output_type": "display_data"
    },
    {
     "data": {
      "application/vnd.jupyter.widget-view+json": {
       "model_id": "df7905cb4c53499a9dc23050497d5d8e",
       "version_major": 2,
       "version_minor": 0
      },
      "text/plain": [
       "Validation:   0%|          | 0/43 [00:00<?, ?it/s]"
      ]
     },
     "metadata": {},
     "output_type": "display_data"
    },
    {
     "name": "stdout",
     "output_type": "stream",
     "text": [
      "Train Loss: 0.1856, Train Acc: 0.9415\n",
      "Val Loss: 0.4283, Val Acc: 0.9064\n",
      "Validation Confusion Matrix:\n",
      "[[90 16]\n",
      " [ 0 65]]\n",
      "--------------------------------------------------\n",
      "Epoch 3/50\n"
     ]
    },
    {
     "data": {
      "application/vnd.jupyter.widget-view+json": {
       "model_id": "b27e796a37ce4e19a132be82d3ad9180",
       "version_major": 2,
       "version_minor": 0
      },
      "text/plain": [
       "Training:   0%|          | 0/129 [00:00<?, ?it/s]"
      ]
     },
     "metadata": {},
     "output_type": "display_data"
    },
    {
     "data": {
      "application/vnd.jupyter.widget-view+json": {
       "model_id": "6ddec1126cb2409ba559759a780e914c",
       "version_major": 2,
       "version_minor": 0
      },
      "text/plain": [
       "Validation:   0%|          | 0/43 [00:00<?, ?it/s]"
      ]
     },
     "metadata": {},
     "output_type": "display_data"
    },
    {
     "name": "stdout",
     "output_type": "stream",
     "text": [
      "Train Loss: 0.1590, Train Acc: 0.9552\n",
      "Val Loss: 0.6249, Val Acc: 0.7602\n",
      "Validation Confusion Matrix:\n",
      "[[106   0]\n",
      " [ 41  24]]\n",
      "--------------------------------------------------\n",
      "Epoch 4/50\n"
     ]
    },
    {
     "data": {
      "application/vnd.jupyter.widget-view+json": {
       "model_id": "44ce9ad4f50c4dc09169cb3af0451721",
       "version_major": 2,
       "version_minor": 0
      },
      "text/plain": [
       "Training:   0%|          | 0/129 [00:00<?, ?it/s]"
      ]
     },
     "metadata": {},
     "output_type": "display_data"
    },
    {
     "data": {
      "application/vnd.jupyter.widget-view+json": {
       "model_id": "e7ad1d44920346c5836e8d81836b28fc",
       "version_major": 2,
       "version_minor": 0
      },
      "text/plain": [
       "Validation:   0%|          | 0/43 [00:00<?, ?it/s]"
      ]
     },
     "metadata": {},
     "output_type": "display_data"
    },
    {
     "name": "stdout",
     "output_type": "stream",
     "text": [
      "Train Loss: 0.0833, Train Acc: 0.9747\n",
      "Val Loss: 0.2720, Val Acc: 0.9006\n",
      "Validation Confusion Matrix:\n",
      "[[89 17]\n",
      " [ 0 65]]\n",
      "--------------------------------------------------\n",
      "Epoch 5/50\n"
     ]
    },
    {
     "data": {
      "application/vnd.jupyter.widget-view+json": {
       "model_id": "768eedf955f64e68ab48ee6f0667079a",
       "version_major": 2,
       "version_minor": 0
      },
      "text/plain": [
       "Training:   0%|          | 0/129 [00:00<?, ?it/s]"
      ]
     },
     "metadata": {},
     "output_type": "display_data"
    },
    {
     "data": {
      "application/vnd.jupyter.widget-view+json": {
       "model_id": "13d12dedb62f4b0888cd56e39ba6d290",
       "version_major": 2,
       "version_minor": 0
      },
      "text/plain": [
       "Validation:   0%|          | 0/43 [00:00<?, ?it/s]"
      ]
     },
     "metadata": {},
     "output_type": "display_data"
    },
    {
     "name": "stdout",
     "output_type": "stream",
     "text": [
      "Train Loss: 0.0590, Train Acc: 0.9864\n",
      "Val Loss: 0.0313, Val Acc: 1.0000\n",
      "Validation Confusion Matrix:\n",
      "[[106   0]\n",
      " [  0  65]]\n",
      "Model saved!\n",
      "--------------------------------------------------\n",
      "Epoch 6/50\n"
     ]
    },
    {
     "data": {
      "application/vnd.jupyter.widget-view+json": {
       "model_id": "b292cfc887514125951542e3256ad908",
       "version_major": 2,
       "version_minor": 0
      },
      "text/plain": [
       "Training:   0%|          | 0/129 [00:00<?, ?it/s]"
      ]
     },
     "metadata": {},
     "output_type": "display_data"
    },
    {
     "data": {
      "application/vnd.jupyter.widget-view+json": {
       "model_id": "f61d3e7f25f8481c928e3ef68631c9fe",
       "version_major": 2,
       "version_minor": 0
      },
      "text/plain": [
       "Validation:   0%|          | 0/43 [00:00<?, ?it/s]"
      ]
     },
     "metadata": {},
     "output_type": "display_data"
    },
    {
     "name": "stdout",
     "output_type": "stream",
     "text": [
      "Train Loss: 0.0782, Train Acc: 0.9786\n",
      "Val Loss: 0.1768, Val Acc: 0.9357\n",
      "Validation Confusion Matrix:\n",
      "[[106   0]\n",
      " [ 11  54]]\n",
      "--------------------------------------------------\n",
      "Epoch 7/50\n"
     ]
    },
    {
     "data": {
      "application/vnd.jupyter.widget-view+json": {
       "model_id": "f18f477897834b9cba4c229875d3f6b2",
       "version_major": 2,
       "version_minor": 0
      },
      "text/plain": [
       "Training:   0%|          | 0/129 [00:00<?, ?it/s]"
      ]
     },
     "metadata": {},
     "output_type": "display_data"
    },
    {
     "data": {
      "application/vnd.jupyter.widget-view+json": {
       "model_id": "eedb5c5b1e964793885a8f56edcb226d",
       "version_major": 2,
       "version_minor": 0
      },
      "text/plain": [
       "Validation:   0%|          | 0/43 [00:00<?, ?it/s]"
      ]
     },
     "metadata": {},
     "output_type": "display_data"
    },
    {
     "name": "stdout",
     "output_type": "stream",
     "text": [
      "Train Loss: 0.0661, Train Acc: 0.9747\n",
      "Val Loss: 0.5006, Val Acc: 0.6608\n",
      "Validation Confusion Matrix:\n",
      "[[106   0]\n",
      " [ 58   7]]\n",
      "--------------------------------------------------\n",
      "Epoch 8/50\n"
     ]
    },
    {
     "data": {
      "application/vnd.jupyter.widget-view+json": {
       "model_id": "7587d7f6bcad4f22905f64a98389bc78",
       "version_major": 2,
       "version_minor": 0
      },
      "text/plain": [
       "Training:   0%|          | 0/129 [00:00<?, ?it/s]"
      ]
     },
     "metadata": {},
     "output_type": "display_data"
    },
    {
     "data": {
      "application/vnd.jupyter.widget-view+json": {
       "model_id": "5f0bca59be9c4f87825443d1035096be",
       "version_major": 2,
       "version_minor": 0
      },
      "text/plain": [
       "Validation:   0%|          | 0/43 [00:00<?, ?it/s]"
      ]
     },
     "metadata": {},
     "output_type": "display_data"
    },
    {
     "name": "stdout",
     "output_type": "stream",
     "text": [
      "Train Loss: 0.0313, Train Acc: 0.9942\n",
      "Val Loss: 0.1930, Val Acc: 0.9064\n",
      "Validation Confusion Matrix:\n",
      "[[90 16]\n",
      " [ 0 65]]\n",
      "--------------------------------------------------\n",
      "Epoch 9/50\n"
     ]
    },
    {
     "data": {
      "application/vnd.jupyter.widget-view+json": {
       "model_id": "b4592008342f436f9e8f2d8b0c57e35b",
       "version_major": 2,
       "version_minor": 0
      },
      "text/plain": [
       "Training:   0%|          | 0/129 [00:00<?, ?it/s]"
      ]
     },
     "metadata": {},
     "output_type": "display_data"
    },
    {
     "data": {
      "application/vnd.jupyter.widget-view+json": {
       "model_id": "777cc290d9b34f9290f690721ccbaf60",
       "version_major": 2,
       "version_minor": 0
      },
      "text/plain": [
       "Validation:   0%|          | 0/43 [00:00<?, ?it/s]"
      ]
     },
     "metadata": {},
     "output_type": "display_data"
    },
    {
     "name": "stdout",
     "output_type": "stream",
     "text": [
      "Train Loss: 0.0014, Train Acc: 1.0000\n",
      "Val Loss: 0.0527, Val Acc: 0.9825\n",
      "Validation Confusion Matrix:\n",
      "[[103   3]\n",
      " [  0  65]]\n",
      "--------------------------------------------------\n",
      "Epoch 10/50\n"
     ]
    },
    {
     "data": {
      "application/vnd.jupyter.widget-view+json": {
       "model_id": "92434f3d8a7e4df088d7dc3dbb60f66a",
       "version_major": 2,
       "version_minor": 0
      },
      "text/plain": [
       "Training:   0%|          | 0/129 [00:00<?, ?it/s]"
      ]
     },
     "metadata": {},
     "output_type": "display_data"
    },
    {
     "data": {
      "application/vnd.jupyter.widget-view+json": {
       "model_id": "f9b0c67f0b90470bae5a7a2691892b28",
       "version_major": 2,
       "version_minor": 0
      },
      "text/plain": [
       "Validation:   0%|          | 0/43 [00:00<?, ?it/s]"
      ]
     },
     "metadata": {},
     "output_type": "display_data"
    },
    {
     "name": "stdout",
     "output_type": "stream",
     "text": [
      "Train Loss: 0.0009, Train Acc: 1.0000\n",
      "Val Loss: 0.0332, Val Acc: 1.0000\n",
      "Validation Confusion Matrix:\n",
      "[[106   0]\n",
      " [  0  65]]\n",
      "--------------------------------------------------\n",
      "Epoch 11/50\n"
     ]
    },
    {
     "data": {
      "application/vnd.jupyter.widget-view+json": {
       "model_id": "e7f80a49c3424fdf90989e3f81e2b59e",
       "version_major": 2,
       "version_minor": 0
      },
      "text/plain": [
       "Training:   0%|          | 0/129 [00:00<?, ?it/s]"
      ]
     },
     "metadata": {},
     "output_type": "display_data"
    },
    {
     "data": {
      "application/vnd.jupyter.widget-view+json": {
       "model_id": "95aae8a212f04c1783ff668f3fac96dc",
       "version_major": 2,
       "version_minor": 0
      },
      "text/plain": [
       "Validation:   0%|          | 0/43 [00:00<?, ?it/s]"
      ]
     },
     "metadata": {},
     "output_type": "display_data"
    },
    {
     "name": "stdout",
     "output_type": "stream",
     "text": [
      "Train Loss: 0.1214, Train Acc: 0.9688\n",
      "Val Loss: 0.3583, Val Acc: 0.8947\n",
      "Validation Confusion Matrix:\n",
      "[[88 18]\n",
      " [ 0 65]]\n",
      "--------------------------------------------------\n",
      "Epoch 12/50\n"
     ]
    },
    {
     "data": {
      "application/vnd.jupyter.widget-view+json": {
       "model_id": "e8113084753544ba9efd9198876a1c69",
       "version_major": 2,
       "version_minor": 0
      },
      "text/plain": [
       "Training:   0%|          | 0/129 [00:00<?, ?it/s]"
      ]
     },
     "metadata": {},
     "output_type": "display_data"
    },
    {
     "data": {
      "application/vnd.jupyter.widget-view+json": {
       "model_id": "4dc57c1867f5421caeb2389a832df924",
       "version_major": 2,
       "version_minor": 0
      },
      "text/plain": [
       "Validation:   0%|          | 0/43 [00:00<?, ?it/s]"
      ]
     },
     "metadata": {},
     "output_type": "display_data"
    },
    {
     "name": "stdout",
     "output_type": "stream",
     "text": [
      "Train Loss: 0.0625, Train Acc: 0.9805\n",
      "Val Loss: 0.0097, Val Acc: 1.0000\n",
      "Validation Confusion Matrix:\n",
      "[[106   0]\n",
      " [  0  65]]\n",
      "Model saved!\n",
      "--------------------------------------------------\n",
      "Epoch 13/50\n"
     ]
    },
    {
     "data": {
      "application/vnd.jupyter.widget-view+json": {
       "model_id": "d879162c5e0c41ef9569f65d53d06cfc",
       "version_major": 2,
       "version_minor": 0
      },
      "text/plain": [
       "Training:   0%|          | 0/129 [00:00<?, ?it/s]"
      ]
     },
     "metadata": {},
     "output_type": "display_data"
    },
    {
     "data": {
      "application/vnd.jupyter.widget-view+json": {
       "model_id": "7dd06e03f00a44fc8a5593ba8774cde8",
       "version_major": 2,
       "version_minor": 0
      },
      "text/plain": [
       "Validation:   0%|          | 0/43 [00:00<?, ?it/s]"
      ]
     },
     "metadata": {},
     "output_type": "display_data"
    },
    {
     "name": "stdout",
     "output_type": "stream",
     "text": [
      "Train Loss: 0.0040, Train Acc: 1.0000\n",
      "Val Loss: 0.0096, Val Acc: 1.0000\n",
      "Validation Confusion Matrix:\n",
      "[[106   0]\n",
      " [  0  65]]\n",
      "Model saved!\n",
      "--------------------------------------------------\n",
      "Epoch 14/50\n"
     ]
    },
    {
     "data": {
      "application/vnd.jupyter.widget-view+json": {
       "model_id": "5a8f7c846d3848be91e0fd062be0acea",
       "version_major": 2,
       "version_minor": 0
      },
      "text/plain": [
       "Training:   0%|          | 0/129 [00:00<?, ?it/s]"
      ]
     },
     "metadata": {},
     "output_type": "display_data"
    },
    {
     "data": {
      "application/vnd.jupyter.widget-view+json": {
       "model_id": "5b1106fcc8f9432092604e2cb42aa74c",
       "version_major": 2,
       "version_minor": 0
      },
      "text/plain": [
       "Validation:   0%|          | 0/43 [00:00<?, ?it/s]"
      ]
     },
     "metadata": {},
     "output_type": "display_data"
    },
    {
     "name": "stdout",
     "output_type": "stream",
     "text": [
      "Train Loss: 0.0205, Train Acc: 0.9903\n",
      "Val Loss: 0.0135, Val Acc: 0.9942\n",
      "Validation Confusion Matrix:\n",
      "[[106   0]\n",
      " [  1  64]]\n",
      "--------------------------------------------------\n",
      "Epoch 15/50\n"
     ]
    },
    {
     "data": {
      "application/vnd.jupyter.widget-view+json": {
       "model_id": "d092f70bb14c4e93bab7f60c04ae35db",
       "version_major": 2,
       "version_minor": 0
      },
      "text/plain": [
       "Training:   0%|          | 0/129 [00:00<?, ?it/s]"
      ]
     },
     "metadata": {},
     "output_type": "display_data"
    },
    {
     "data": {
      "application/vnd.jupyter.widget-view+json": {
       "model_id": "b4d7e318c2934d92a0fe8c729cb5041b",
       "version_major": 2,
       "version_minor": 0
      },
      "text/plain": [
       "Validation:   0%|          | 0/43 [00:00<?, ?it/s]"
      ]
     },
     "metadata": {},
     "output_type": "display_data"
    },
    {
     "name": "stdout",
     "output_type": "stream",
     "text": [
      "Train Loss: 0.0459, Train Acc: 0.9903\n",
      "Val Loss: 0.0206, Val Acc: 0.9883\n",
      "Validation Confusion Matrix:\n",
      "[[105   1]\n",
      " [  1  64]]\n",
      "--------------------------------------------------\n",
      "Epoch 16/50\n"
     ]
    },
    {
     "data": {
      "application/vnd.jupyter.widget-view+json": {
       "model_id": "e2cbaac0fc86496b8d4c4c7b988ec7b7",
       "version_major": 2,
       "version_minor": 0
      },
      "text/plain": [
       "Training:   0%|          | 0/129 [00:00<?, ?it/s]"
      ]
     },
     "metadata": {},
     "output_type": "display_data"
    },
    {
     "data": {
      "application/vnd.jupyter.widget-view+json": {
       "model_id": "93846241218d435f927dc4bc222b489e",
       "version_major": 2,
       "version_minor": 0
      },
      "text/plain": [
       "Validation:   0%|          | 0/43 [00:00<?, ?it/s]"
      ]
     },
     "metadata": {},
     "output_type": "display_data"
    },
    {
     "name": "stdout",
     "output_type": "stream",
     "text": [
      "Train Loss: 0.0109, Train Acc: 0.9981\n",
      "Val Loss: 0.0174, Val Acc: 0.9942\n",
      "Validation Confusion Matrix:\n",
      "[[105   1]\n",
      " [  0  65]]\n",
      "--------------------------------------------------\n",
      "Epoch 17/50\n"
     ]
    },
    {
     "data": {
      "application/vnd.jupyter.widget-view+json": {
       "model_id": "07ed86092a864ffd86bb9cd53c297d0e",
       "version_major": 2,
       "version_minor": 0
      },
      "text/plain": [
       "Training:   0%|          | 0/129 [00:00<?, ?it/s]"
      ]
     },
     "metadata": {},
     "output_type": "display_data"
    },
    {
     "data": {
      "application/vnd.jupyter.widget-view+json": {
       "model_id": "b8c284da2bb343029b030fe929892725",
       "version_major": 2,
       "version_minor": 0
      },
      "text/plain": [
       "Validation:   0%|          | 0/43 [00:00<?, ?it/s]"
      ]
     },
     "metadata": {},
     "output_type": "display_data"
    },
    {
     "name": "stdout",
     "output_type": "stream",
     "text": [
      "Train Loss: 0.0524, Train Acc: 0.9922\n",
      "Val Loss: 0.1243, Val Acc: 0.9942\n",
      "Validation Confusion Matrix:\n",
      "[[106   0]\n",
      " [  1  64]]\n",
      "--------------------------------------------------\n",
      "Epoch 18/50\n"
     ]
    },
    {
     "data": {
      "application/vnd.jupyter.widget-view+json": {
       "model_id": "0fd879348edd4b1eafd8e1d987ed560d",
       "version_major": 2,
       "version_minor": 0
      },
      "text/plain": [
       "Training:   0%|          | 0/129 [00:00<?, ?it/s]"
      ]
     },
     "metadata": {},
     "output_type": "display_data"
    },
    {
     "data": {
      "application/vnd.jupyter.widget-view+json": {
       "model_id": "af1169e81d204d2abe78336a820a8ba7",
       "version_major": 2,
       "version_minor": 0
      },
      "text/plain": [
       "Validation:   0%|          | 0/43 [00:00<?, ?it/s]"
      ]
     },
     "metadata": {},
     "output_type": "display_data"
    },
    {
     "name": "stdout",
     "output_type": "stream",
     "text": [
      "Train Loss: 0.0023, Train Acc: 1.0000\n",
      "Val Loss: 0.0377, Val Acc: 0.9942\n",
      "Validation Confusion Matrix:\n",
      "[[105   1]\n",
      " [  0  65]]\n",
      "--------------------------------------------------\n",
      "Epoch 19/50\n"
     ]
    },
    {
     "data": {
      "application/vnd.jupyter.widget-view+json": {
       "model_id": "9815a4e8f36c484f927ca0fd4c120979",
       "version_major": 2,
       "version_minor": 0
      },
      "text/plain": [
       "Training:   0%|          | 0/129 [00:00<?, ?it/s]"
      ]
     },
     "metadata": {},
     "output_type": "display_data"
    },
    {
     "data": {
      "application/vnd.jupyter.widget-view+json": {
       "model_id": "bbdbf1632f6d462faacba001aeea27f9",
       "version_major": 2,
       "version_minor": 0
      },
      "text/plain": [
       "Validation:   0%|          | 0/43 [00:00<?, ?it/s]"
      ]
     },
     "metadata": {},
     "output_type": "display_data"
    },
    {
     "name": "stdout",
     "output_type": "stream",
     "text": [
      "Train Loss: 0.0011, Train Acc: 1.0000\n",
      "Val Loss: 0.0320, Val Acc: 1.0000\n",
      "Validation Confusion Matrix:\n",
      "[[106   0]\n",
      " [  0  65]]\n",
      "--------------------------------------------------\n",
      "Epoch 20/50\n"
     ]
    },
    {
     "data": {
      "application/vnd.jupyter.widget-view+json": {
       "model_id": "62d6e083e9934b2b89add6d114dc2eee",
       "version_major": 2,
       "version_minor": 0
      },
      "text/plain": [
       "Training:   0%|          | 0/129 [00:00<?, ?it/s]"
      ]
     },
     "metadata": {},
     "output_type": "display_data"
    },
    {
     "data": {
      "application/vnd.jupyter.widget-view+json": {
       "model_id": "610581c8335b4e688315b70b90c2529d",
       "version_major": 2,
       "version_minor": 0
      },
      "text/plain": [
       "Validation:   0%|          | 0/43 [00:00<?, ?it/s]"
      ]
     },
     "metadata": {},
     "output_type": "display_data"
    },
    {
     "name": "stdout",
     "output_type": "stream",
     "text": [
      "Train Loss: 0.0011, Train Acc: 1.0000\n",
      "Val Loss: 0.0738, Val Acc: 1.0000\n",
      "Validation Confusion Matrix:\n",
      "[[106   0]\n",
      " [  0  65]]\n",
      "--------------------------------------------------\n",
      "Epoch 21/50\n"
     ]
    },
    {
     "data": {
      "application/vnd.jupyter.widget-view+json": {
       "model_id": "04a57327b47641c38b7dcace68dccfb3",
       "version_major": 2,
       "version_minor": 0
      },
      "text/plain": [
       "Training:   0%|          | 0/129 [00:00<?, ?it/s]"
      ]
     },
     "metadata": {},
     "output_type": "display_data"
    },
    {
     "data": {
      "application/vnd.jupyter.widget-view+json": {
       "model_id": "9b805301a4b04300adf20b2d7174646e",
       "version_major": 2,
       "version_minor": 0
      },
      "text/plain": [
       "Validation:   0%|          | 0/43 [00:00<?, ?it/s]"
      ]
     },
     "metadata": {},
     "output_type": "display_data"
    },
    {
     "name": "stdout",
     "output_type": "stream",
     "text": [
      "Train Loss: 0.0011, Train Acc: 1.0000\n",
      "Val Loss: 0.0856, Val Acc: 1.0000\n",
      "Validation Confusion Matrix:\n",
      "[[106   0]\n",
      " [  0  65]]\n",
      "--------------------------------------------------\n",
      "Epoch 22/50\n"
     ]
    },
    {
     "data": {
      "application/vnd.jupyter.widget-view+json": {
       "model_id": "ec96d030ec844957b976e937e58eb265",
       "version_major": 2,
       "version_minor": 0
      },
      "text/plain": [
       "Training:   0%|          | 0/129 [00:00<?, ?it/s]"
      ]
     },
     "metadata": {},
     "output_type": "display_data"
    },
    {
     "data": {
      "application/vnd.jupyter.widget-view+json": {
       "model_id": "d090909122fe40f38bff3ae6a5519f78",
       "version_major": 2,
       "version_minor": 0
      },
      "text/plain": [
       "Validation:   0%|          | 0/43 [00:00<?, ?it/s]"
      ]
     },
     "metadata": {},
     "output_type": "display_data"
    },
    {
     "name": "stdout",
     "output_type": "stream",
     "text": [
      "Train Loss: 0.0016, Train Acc: 1.0000\n",
      "Val Loss: 0.0890, Val Acc: 1.0000\n",
      "Validation Confusion Matrix:\n",
      "[[106   0]\n",
      " [  0  65]]\n",
      "--------------------------------------------------\n",
      "Epoch 23/50\n"
     ]
    },
    {
     "data": {
      "application/vnd.jupyter.widget-view+json": {
       "model_id": "d3ffe694c3f44de490bfdd9d259980ba",
       "version_major": 2,
       "version_minor": 0
      },
      "text/plain": [
       "Training:   0%|          | 0/129 [00:00<?, ?it/s]"
      ]
     },
     "metadata": {},
     "output_type": "display_data"
    },
    {
     "data": {
      "application/vnd.jupyter.widget-view+json": {
       "model_id": "e3f9a9e9912b4785b4e7c97b5d3e0a14",
       "version_major": 2,
       "version_minor": 0
      },
      "text/plain": [
       "Validation:   0%|          | 0/43 [00:00<?, ?it/s]"
      ]
     },
     "metadata": {},
     "output_type": "display_data"
    },
    {
     "name": "stdout",
     "output_type": "stream",
     "text": [
      "Train Loss: 0.0027, Train Acc: 0.9981\n",
      "Val Loss: 0.0016, Val Acc: 1.0000\n",
      "Validation Confusion Matrix:\n",
      "[[106   0]\n",
      " [  0  65]]\n",
      "Model saved!\n",
      "--------------------------------------------------\n",
      "Epoch 24/50\n"
     ]
    },
    {
     "data": {
      "application/vnd.jupyter.widget-view+json": {
       "model_id": "9b1bb491904e4b0a8ee92648fe48e121",
       "version_major": 2,
       "version_minor": 0
      },
      "text/plain": [
       "Training:   0%|          | 0/129 [00:00<?, ?it/s]"
      ]
     },
     "metadata": {},
     "output_type": "display_data"
    },
    {
     "data": {
      "application/vnd.jupyter.widget-view+json": {
       "model_id": "45b28cff992a4785ae711a03afdeee31",
       "version_major": 2,
       "version_minor": 0
      },
      "text/plain": [
       "Validation:   0%|          | 0/43 [00:00<?, ?it/s]"
      ]
     },
     "metadata": {},
     "output_type": "display_data"
    },
    {
     "name": "stdout",
     "output_type": "stream",
     "text": [
      "Train Loss: 0.0009, Train Acc: 1.0000\n",
      "Val Loss: 0.0012, Val Acc: 1.0000\n",
      "Validation Confusion Matrix:\n",
      "[[106   0]\n",
      " [  0  65]]\n",
      "Model saved!\n",
      "--------------------------------------------------\n",
      "Epoch 25/50\n"
     ]
    },
    {
     "data": {
      "application/vnd.jupyter.widget-view+json": {
       "model_id": "f5a1fe5b301e48ef8a51ccf5796dba5a",
       "version_major": 2,
       "version_minor": 0
      },
      "text/plain": [
       "Training:   0%|          | 0/129 [00:00<?, ?it/s]"
      ]
     },
     "metadata": {},
     "output_type": "display_data"
    },
    {
     "data": {
      "application/vnd.jupyter.widget-view+json": {
       "model_id": "3d7ecac553e04eff962bfc6fbc69943f",
       "version_major": 2,
       "version_minor": 0
      },
      "text/plain": [
       "Validation:   0%|          | 0/43 [00:00<?, ?it/s]"
      ]
     },
     "metadata": {},
     "output_type": "display_data"
    },
    {
     "name": "stdout",
     "output_type": "stream",
     "text": [
      "Train Loss: 0.0006, Train Acc: 1.0000\n",
      "Val Loss: 0.0084, Val Acc: 0.9942\n",
      "Validation Confusion Matrix:\n",
      "[[105   1]\n",
      " [  0  65]]\n",
      "--------------------------------------------------\n",
      "Epoch 26/50\n"
     ]
    },
    {
     "data": {
      "application/vnd.jupyter.widget-view+json": {
       "model_id": "eca3bd66d75448c38dacde715ae0260d",
       "version_major": 2,
       "version_minor": 0
      },
      "text/plain": [
       "Training:   0%|          | 0/129 [00:00<?, ?it/s]"
      ]
     },
     "metadata": {},
     "output_type": "display_data"
    },
    {
     "data": {
      "application/vnd.jupyter.widget-view+json": {
       "model_id": "dc7b1a128f5944bf8d3ad2361a41c320",
       "version_major": 2,
       "version_minor": 0
      },
      "text/plain": [
       "Validation:   0%|          | 0/43 [00:00<?, ?it/s]"
      ]
     },
     "metadata": {},
     "output_type": "display_data"
    },
    {
     "name": "stdout",
     "output_type": "stream",
     "text": [
      "Train Loss: 0.0005, Train Acc: 1.0000\n",
      "Val Loss: 0.0018, Val Acc: 1.0000\n",
      "Validation Confusion Matrix:\n",
      "[[106   0]\n",
      " [  0  65]]\n",
      "--------------------------------------------------\n",
      "Epoch 27/50\n"
     ]
    },
    {
     "data": {
      "application/vnd.jupyter.widget-view+json": {
       "model_id": "dd6f3d90b4084333a8bfa56632438e90",
       "version_major": 2,
       "version_minor": 0
      },
      "text/plain": [
       "Training:   0%|          | 0/129 [00:00<?, ?it/s]"
      ]
     },
     "metadata": {},
     "output_type": "display_data"
    },
    {
     "data": {
      "application/vnd.jupyter.widget-view+json": {
       "model_id": "f0cd108973364a6f8250429239b60780",
       "version_major": 2,
       "version_minor": 0
      },
      "text/plain": [
       "Validation:   0%|          | 0/43 [00:00<?, ?it/s]"
      ]
     },
     "metadata": {},
     "output_type": "display_data"
    },
    {
     "name": "stdout",
     "output_type": "stream",
     "text": [
      "Train Loss: 0.0051, Train Acc: 0.9981\n",
      "Val Loss: 0.0078, Val Acc: 1.0000\n",
      "Validation Confusion Matrix:\n",
      "[[106   0]\n",
      " [  0  65]]\n",
      "--------------------------------------------------\n",
      "Epoch 28/50\n"
     ]
    },
    {
     "data": {
      "application/vnd.jupyter.widget-view+json": {
       "model_id": "1f9bfb4a58b74f6c952e643442e10fd4",
       "version_major": 2,
       "version_minor": 0
      },
      "text/plain": [
       "Training:   0%|          | 0/129 [00:00<?, ?it/s]"
      ]
     },
     "metadata": {},
     "output_type": "display_data"
    },
    {
     "data": {
      "application/vnd.jupyter.widget-view+json": {
       "model_id": "206891260cbe48c890ec028ba0509f17",
       "version_major": 2,
       "version_minor": 0
      },
      "text/plain": [
       "Validation:   0%|          | 0/43 [00:00<?, ?it/s]"
      ]
     },
     "metadata": {},
     "output_type": "display_data"
    },
    {
     "name": "stdout",
     "output_type": "stream",
     "text": [
      "Train Loss: 0.0013, Train Acc: 1.0000\n",
      "Val Loss: 0.0060, Val Acc: 1.0000\n",
      "Validation Confusion Matrix:\n",
      "[[106   0]\n",
      " [  0  65]]\n",
      "--------------------------------------------------\n",
      "Epoch 29/50\n"
     ]
    },
    {
     "data": {
      "application/vnd.jupyter.widget-view+json": {
       "model_id": "ad34212edf884de99012b90e6ed48669",
       "version_major": 2,
       "version_minor": 0
      },
      "text/plain": [
       "Training:   0%|          | 0/129 [00:00<?, ?it/s]"
      ]
     },
     "metadata": {},
     "output_type": "display_data"
    },
    {
     "data": {
      "application/vnd.jupyter.widget-view+json": {
       "model_id": "b0ebfe7cd9d148f88c865505e2546f7c",
       "version_major": 2,
       "version_minor": 0
      },
      "text/plain": [
       "Validation:   0%|          | 0/43 [00:00<?, ?it/s]"
      ]
     },
     "metadata": {},
     "output_type": "display_data"
    },
    {
     "name": "stdout",
     "output_type": "stream",
     "text": [
      "Train Loss: 0.0005, Train Acc: 1.0000\n",
      "Val Loss: 0.0223, Val Acc: 1.0000\n",
      "Validation Confusion Matrix:\n",
      "[[106   0]\n",
      " [  0  65]]\n",
      "--------------------------------------------------\n",
      "Epoch 30/50\n"
     ]
    },
    {
     "data": {
      "application/vnd.jupyter.widget-view+json": {
       "model_id": "69b93fecd6bf4add94cdd443bff57a93",
       "version_major": 2,
       "version_minor": 0
      },
      "text/plain": [
       "Training:   0%|          | 0/129 [00:00<?, ?it/s]"
      ]
     },
     "metadata": {},
     "output_type": "display_data"
    },
    {
     "data": {
      "application/vnd.jupyter.widget-view+json": {
       "model_id": "3495e84b062e48a0adc8a8b5ad55a477",
       "version_major": 2,
       "version_minor": 0
      },
      "text/plain": [
       "Validation:   0%|          | 0/43 [00:00<?, ?it/s]"
      ]
     },
     "metadata": {},
     "output_type": "display_data"
    },
    {
     "name": "stdout",
     "output_type": "stream",
     "text": [
      "Train Loss: 0.0008, Train Acc: 1.0000\n",
      "Val Loss: 0.0019, Val Acc: 1.0000\n",
      "Validation Confusion Matrix:\n",
      "[[106   0]\n",
      " [  0  65]]\n",
      "--------------------------------------------------\n",
      "Epoch 31/50\n"
     ]
    },
    {
     "data": {
      "application/vnd.jupyter.widget-view+json": {
       "model_id": "07d6533ef79649f39df7fc3da2070c6b",
       "version_major": 2,
       "version_minor": 0
      },
      "text/plain": [
       "Training:   0%|          | 0/129 [00:00<?, ?it/s]"
      ]
     },
     "metadata": {},
     "output_type": "display_data"
    },
    {
     "data": {
      "application/vnd.jupyter.widget-view+json": {
       "model_id": "472a51792a084d7d9fca7f16af78babb",
       "version_major": 2,
       "version_minor": 0
      },
      "text/plain": [
       "Validation:   0%|          | 0/43 [00:00<?, ?it/s]"
      ]
     },
     "metadata": {},
     "output_type": "display_data"
    },
    {
     "name": "stdout",
     "output_type": "stream",
     "text": [
      "Train Loss: 0.0004, Train Acc: 1.0000\n",
      "Val Loss: 0.0082, Val Acc: 0.9942\n",
      "Validation Confusion Matrix:\n",
      "[[105   1]\n",
      " [  0  65]]\n",
      "--------------------------------------------------\n",
      "Epoch 32/50\n"
     ]
    },
    {
     "data": {
      "application/vnd.jupyter.widget-view+json": {
       "model_id": "1e5c009fcfaf47b4818507696f94e10b",
       "version_major": 2,
       "version_minor": 0
      },
      "text/plain": [
       "Training:   0%|          | 0/129 [00:00<?, ?it/s]"
      ]
     },
     "metadata": {},
     "output_type": "display_data"
    },
    {
     "data": {
      "application/vnd.jupyter.widget-view+json": {
       "model_id": "e109d68d8a5e4bd3852f35af05f83df3",
       "version_major": 2,
       "version_minor": 0
      },
      "text/plain": [
       "Validation:   0%|          | 0/43 [00:00<?, ?it/s]"
      ]
     },
     "metadata": {},
     "output_type": "display_data"
    },
    {
     "name": "stdout",
     "output_type": "stream",
     "text": [
      "Train Loss: 0.0004, Train Acc: 1.0000\n",
      "Val Loss: 0.0016, Val Acc: 1.0000\n",
      "Validation Confusion Matrix:\n",
      "[[106   0]\n",
      " [  0  65]]\n",
      "--------------------------------------------------\n",
      "Epoch 33/50\n"
     ]
    },
    {
     "data": {
      "application/vnd.jupyter.widget-view+json": {
       "model_id": "1e0953c4306147ee8d37c4cf54c86e1d",
       "version_major": 2,
       "version_minor": 0
      },
      "text/plain": [
       "Training:   0%|          | 0/129 [00:00<?, ?it/s]"
      ]
     },
     "metadata": {},
     "output_type": "display_data"
    },
    {
     "data": {
      "application/vnd.jupyter.widget-view+json": {
       "model_id": "025fe907454d4defaaea2063ab9b4ed4",
       "version_major": 2,
       "version_minor": 0
      },
      "text/plain": [
       "Validation:   0%|          | 0/43 [00:00<?, ?it/s]"
      ]
     },
     "metadata": {},
     "output_type": "display_data"
    },
    {
     "name": "stdout",
     "output_type": "stream",
     "text": [
      "Train Loss: 0.0046, Train Acc: 0.9981\n",
      "Val Loss: 0.0225, Val Acc: 0.9942\n",
      "Validation Confusion Matrix:\n",
      "[[106   0]\n",
      " [  1  64]]\n",
      "--------------------------------------------------\n",
      "Epoch 34/50\n"
     ]
    },
    {
     "data": {
      "application/vnd.jupyter.widget-view+json": {
       "model_id": "fccdaf2d724f4a40bd2344423a2108d0",
       "version_major": 2,
       "version_minor": 0
      },
      "text/plain": [
       "Training:   0%|          | 0/129 [00:00<?, ?it/s]"
      ]
     },
     "metadata": {},
     "output_type": "display_data"
    },
    {
     "data": {
      "application/vnd.jupyter.widget-view+json": {
       "model_id": "7d5443361d744650af0d8087a3c401d1",
       "version_major": 2,
       "version_minor": 0
      },
      "text/plain": [
       "Validation:   0%|          | 0/43 [00:00<?, ?it/s]"
      ]
     },
     "metadata": {},
     "output_type": "display_data"
    },
    {
     "name": "stdout",
     "output_type": "stream",
     "text": [
      "Train Loss: 0.0003, Train Acc: 1.0000\n",
      "Val Loss: 0.0758, Val Acc: 0.9766\n",
      "Validation Confusion Matrix:\n",
      "[[106   0]\n",
      " [  4  61]]\n",
      "Early stopping after 34 epochs\n"
     ]
    }
   ],
   "source": [
    "NUM_EPOCHS = 50\n",
    "best_val_loss = float('inf')\n",
    "patience = 10  # For early stopping\n",
    "counter = 0\n",
    "\n",
    "# Lists to store metrics for plotting\n",
    "train_losses = []\n",
    "val_losses = []\n",
    "train_accs = []\n",
    "val_accs = []\n",
    "\n",
    "# Try to free up memory before starting training\n",
    "if torch.cuda.is_available():\n",
    "    torch.cuda.empty_cache()\n",
    "gc.collect()\n",
    "\n",
    "for epoch in range(NUM_EPOCHS):\n",
    "    print(f\"Epoch {epoch+1}/{NUM_EPOCHS}\")\n",
    "    \n",
    "    # Train\n",
    "    train_loss, train_acc, train_preds, train_labels = train_epoch(\n",
    "        model, train_loader, criterion, optimizer, device\n",
    "    )\n",
    "    \n",
    "    # Validate\n",
    "    val_loss, val_acc, val_preds, val_labels = validate(\n",
    "        model, val_loader, criterion, device\n",
    "    )\n",
    "    \n",
    "    # Update learning rate\n",
    "    scheduler.step(val_loss)\n",
    "    \n",
    "    # Print statistics\n",
    "    print(f\"Train Loss: {train_loss:.4f}, Train Acc: {train_acc:.4f}\")\n",
    "    print(f\"Val Loss: {val_loss:.4f}, Val Acc: {val_acc:.4f}\")\n",
    "    \n",
    "    # Confusion matrix for validation\n",
    "    print(\"Validation Confusion Matrix:\")\n",
    "    print(confusion_matrix(val_labels, val_preds))\n",
    "    \n",
    "    # Store metrics for plotting\n",
    "    train_losses.append(train_loss)\n",
    "    val_losses.append(val_loss)\n",
    "    train_accs.append(train_acc)\n",
    "    val_accs.append(val_acc)\n",
    "    \n",
    "    # Save best model\n",
    "    if val_loss < best_val_loss:\n",
    "        best_val_loss = val_loss\n",
    "        torch.save(model.state_dict(), 'Transformers_video_classifier.pt')\n",
    "        print(\"Model saved!\")\n",
    "        counter = 0\n",
    "    else:\n",
    "        counter += 1\n",
    "        \n",
    "    # Early stopping\n",
    "    if counter >= patience:\n",
    "        print(f\"Early stopping after {epoch+1} epochs\")\n",
    "        break\n",
    "        \n",
    "    # Clear memory at the end of each epoch\n",
    "    gc.collect()\n",
    "    if torch.cuda.is_available():\n",
    "        torch.cuda.empty_cache()\n",
    "        \n",
    "    print(\"-\" * 50)"
   ]
  },
  {
   "cell_type": "code",
   "execution_count": 19,
   "metadata": {
    "execution": {
     "iopub.execute_input": "2025-03-11T02:51:23.231207Z",
     "iopub.status.busy": "2025-03-11T02:51:23.230777Z",
     "iopub.status.idle": "2025-03-11T02:51:23.768896Z",
     "shell.execute_reply": "2025-03-11T02:51:23.767927Z",
     "shell.execute_reply.started": "2025-03-11T02:51:23.231147Z"
    },
    "trusted": true
   },
   "outputs": [
    {
     "data": {
      "image/png": "[encoded data removed]",
      "text/plain": [
       "<Figure size 1200x500 with 2 Axes>"
      ]
     },
     "metadata": {},
     "output_type": "display_data"
    }
   ],
   "source": [
    "fig, ax = plt.subplots(1, 2, figsize=(12, 5))  # 1 row, 2 columns\n",
    "\n",
    "# Plot Accuracy\n",
    "ax[0].plot(train_accs, label='Training Accuracy', marker='o')\n",
    "ax[0].plot(val_accs, label='Validation Accuracy', marker='o')\n",
    "ax[0].set_title('Training and Validation Accuracy')\n",
    "ax[0].set_xlabel('Epochs')\n",
    "ax[0].set_ylabel('Accuracy')\n",
    "ax[0].legend()\n",
    "ax[0].grid(True)\n",
    "\n",
    "# Plot Loss\n",
    "ax[1].plot(train_losses, label='Training Loss', marker='o')\n",
    "ax[1].plot(val_losses, label='Validation Loss', marker='o')\n",
    "ax[1].set_title('Training and Validation Loss')\n",
    "ax[1].set_xlabel('Epochs')\n",
    "ax[1].set_ylabel('Loss')\n",
    "ax[1].legend()\n",
    "ax[1].grid(True)\n",
    "\n",
    "# Adjust layout\n",
    "plt.tight_layout()\n",
    "plt.show()"
   ]
  },
  {
   "cell_type": "code",
   "execution_count": 20,
   "metadata": {
    "execution": {
     "iopub.execute_input": "2025-03-11T02:52:00.546271Z",
     "iopub.status.busy": "2025-03-11T02:52:00.545883Z",
     "iopub.status.idle": "2025-03-11T02:52:35.720419Z",
     "shell.execute_reply": "2025-03-11T02:52:35.719247Z",
     "shell.execute_reply.started": "2025-03-11T02:52:00.546236Z"
    },
    "trusted": true
   },
   "outputs": [
    {
     "data": {
      "application/vnd.jupyter.widget-view+json": {
       "model_id": "51bacc3fb98844b187e76cf1409c8728",
       "version_major": 2,
       "version_minor": 0
      },
      "text/plain": [
       "Validation:   0%|          | 0/43 [00:00<?, ?it/s]"
      ]
     },
     "metadata": {},
     "output_type": "display_data"
    },
    {
     "name": "stdout",
     "output_type": "stream",
     "text": [
      "Test Loss: 0.0010, Test Acc: 1.0000\n",
      "Test Confusion Matrix:\n",
      "[[106   0]\n",
      " [  0  65]]\n",
      "\n",
      "Classification Report:\n",
      "                  precision    recall  f1-score   support\n",
      "\n",
      "non shop lifters       1.00      1.00      1.00       106\n",
      "    shop lifters       1.00      1.00      1.00        65\n",
      "\n",
      "        accuracy                           1.00       171\n",
      "       macro avg       1.00      1.00      1.00       171\n",
      "    weighted avg       1.00      1.00      1.00       171\n",
      "\n"
     ]
    }
   ],
   "source": [
    "model.load_state_dict(torch.load('Transformers_video_classifier.pt'))\n",
    "\n",
    "# Evaluate on test set\n",
    "test_loss, test_acc, test_preds, test_labels = validate(\n",
    "    model, test_loader, criterion, device\n",
    ")\n",
    "\n",
    "print(f\"Test Loss: {test_loss:.4f}, Test Acc: {test_acc:.4f}\")\n",
    "\n",
    "# Print confusion matrix and classification report\n",
    "print(\"Test Confusion Matrix:\")\n",
    "cm = confusion_matrix(test_labels, test_preds)\n",
    "print(cm)\n",
    "\n",
    "print(\"\\nClassification Report:\")\n",
    "print(classification_report(test_labels, test_preds, target_names=CLASS_NAMES))"
   ]
  },
  {
   "cell_type": "code",
   "execution_count": 22,
   "metadata": {
    "execution": {
     "iopub.execute_input": "2025-03-11T02:53:18.350055Z",
     "iopub.status.busy": "2025-03-11T02:53:18.349756Z",
     "iopub.status.idle": "2025-03-11T02:53:18.753436Z",
     "shell.execute_reply": "2025-03-11T02:53:18.752589Z",
     "shell.execute_reply.started": "2025-03-11T02:53:18.350033Z"
    },
    "trusted": true
   },
   "outputs": [
    {
     "data": {
      "image/png": "[encoded data removed]",
      "text/plain": [
       "<Figure size 1200x600 with 8 Axes>"
      ]
     },
     "metadata": {},
     "output_type": "display_data"
    },
    {
     "name": "stdout",
     "output_type": "stream",
     "text": [
      "Predicted class: shop lifters\n",
      "Prediction probabilities: [0.00297616 0.9970239 ]\n"
     ]
    }
   ],
   "source": [
    "import cv2\n",
    "import matplotlib.pyplot as plt\n",
    "from PIL import Image\n",
    "import torch\n",
    "import numpy as np\n",
    "\n",
    "def visualize_video(video_path, model, transform, num_frames=8, device='cuda'):\n",
    "    \"\"\"\n",
    "    Visualize video frames with predicted class\n",
    "    \"\"\"\n",
    "    model.eval()\n",
    "    \n",
    "    # Extract frames from the video\n",
    "    frames = extract_frames(video_path, num_frames)\n",
    "    transformed_frames = []\n",
    "\n",
    "    for frame in frames:\n",
    "        frame_pil = Image.fromarray(frame)\n",
    "        transformed_frames.append(transform(frame_pil))\n",
    "\n",
    "    # Stack frames and add batch dimension\n",
    "    frames_tensor = torch.stack(transformed_frames).unsqueeze(0).to(device)\n",
    "\n",
    "    # Predict\n",
    "    with torch.no_grad():\n",
    "        outputs = model(frames_tensor)\n",
    "        _, preds = torch.max(outputs, 1)\n",
    "        probabilities = torch.softmax(outputs, dim=1).cpu().numpy()[0]\n",
    "\n",
    "    # Visualize frames and predicted class\n",
    "    plt.figure(figsize=(12, 6))\n",
    "    for idx, frame in enumerate(frames):\n",
    "        plt.subplot(1, num_frames, idx + 1)\n",
    "        plt.imshow(cv2.cvtColor(frame, cv2.COLOR_BGR2RGB))\n",
    "        plt.axis('off')\n",
    "\n",
    "    plt.suptitle(f\"Predicted Class: {CLASS_NAMES[preds.item()]}\")\n",
    "    plt.show()\n",
    "\n",
    "    # Free up memory\n",
    "    del frames_tensor, outputs\n",
    "    if torch.cuda.is_available():\n",
    "        torch.cuda.empty_cache()\n",
    "\n",
    "    return preds.item(), probabilities\n",
    "\n",
    "# Example usage\n",
    "sample_video = \"/kaggle/working/data/Shop DataSet/shop lifters/shop_lifter_104.mp4\"\n",
    "pred_class, pred_probs = visualize_video(sample_video, model, val_transform, device=device)\n",
    "print(f\"Predicted class: {CLASS_NAMES[pred_class]}\")\n",
    "print(f\"Prediction probabilities: {pred_probs}\")"
   ]
  },
  {
   "cell_type": "code",
   "execution_count": null,
   "metadata": {
    "trusted": true
   },
   "outputs": [],
   "source": []
  }
 ],
 "metadata": {
  "kaggle": {
   "accelerator": "nvidiaTeslaT4",
   "dataSources": [],
   "dockerImageVersionId": 30919,
   "isGpuEnabled": true,
   "isInternetEnabled": true,
   "language": "python",
   "sourceType": "notebook"
  },
  "kernelspec": {
   "display_name": "Python 3",
   "language": "python",
   "name": "python3"
  },
  "language_info": {
   "codemirror_mode": {
    "name": "ipython",
    "version": 3
   },
   "file_extension": ".py",
   "mimetype": "text/x-python",
   "name": "python",
   "nbconvert_exporter": "python",
   "pygments_lexer": "ipython3",
   "version": "3.10.12"
  }
 },
 "nbformat": 4,
 "nbformat_minor": 4
}
